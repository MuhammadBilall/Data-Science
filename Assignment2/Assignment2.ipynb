{
  "nbformat": 4,
  "nbformat_minor": 0,
  "metadata": {
    "colab": {
      "name": "Assignment2.ipynb",
      "provenance": [],
      "collapsed_sections": [],
      "authorship_tag": "ABX9TyPtmB/o/gwUCdscfxagATEo",
      "include_colab_link": true
    },
    "kernelspec": {
      "name": "python3",
      "display_name": "Python 3"
    }
  },
  "cells": [
    {
      "cell_type": "markdown",
      "metadata": {
        "id": "view-in-github",
        "colab_type": "text"
      },
      "source": [
        "<a href=\"https://colab.research.google.com/github/MuhammadBilall/Data-Science/blob/master/Assignment2/Assignment2.ipynb\" target=\"_parent\"><img src=\"https://colab.research.google.com/assets/colab-badge.svg\" alt=\"Open In Colab\"/></a>"
      ]
    },
    {
      "cell_type": "code",
      "metadata": {
        "id": "MQw5bMEWBaTB",
        "colab_type": "code",
        "colab": {}
      },
      "source": [
        "import pandas as pd\n",
        "import numpy as np\n",
        "from collections import Counter\n",
        "import matplotlib.pyplot as plt\n",
        "import random\n",
        "from sklearn.preprocessing import LabelEncoder\n",
        "from sklearn.impute import SimpleImputer\n",
        "from sklearn.cluster import KMeans\n",
        "from sklearn.metrics import silhouette_samples, silhouette_score\n",
        "from sklearn import tree\n",
        "from sklearn.model_selection import cross_val_score\n",
        "from sklearn.ensemble import RandomForestClassifier\n",
        "from sklearn.model_selection import StratifiedKFold"
      ],
      "execution_count": 0,
      "outputs": []
    },
    {
      "cell_type": "code",
      "metadata": {
        "id": "lz64d3VsDHTm",
        "colab_type": "code",
        "colab": {}
      },
      "source": [
        "def DTreeGridSearchAndCV (X, Y):\n",
        "    depth = []\n",
        "    for i in range(3,20):\n",
        "        clf = tree.DecisionTreeClassifier(max_depth=i)\n",
        "        # Perform 10-fold cross validation \n",
        "        scores = cross_val_score(estimator=clf, X=X, y=Y, cv=10, n_jobs=4)\n",
        "        depth.append((i,scores.mean()*100))\n",
        "    print(depth)"
      ],
      "execution_count": 0,
      "outputs": []
    },
    {
      "cell_type": "code",
      "metadata": {
        "id": "lrxJnJoYDJSM",
        "colab_type": "code",
        "colab": {}
      },
      "source": [
        "def RandomForestAndCV (X, Y):\n",
        "    randomforest = RandomForestClassifier(n_estimators=100)\n",
        "    randomforest.fit(X, Y)\n",
        "    RandomForest_CV_Score = cross_val_score(randomforest, X, Y, cv=10)\n",
        "    print(RandomForest_CV_Score)\n",
        "    print(\"Mean Score: \", RandomForest_CV_Score.mean())\n",
        "    "
      ],
      "execution_count": 0,
      "outputs": []
    },
    {
      "cell_type": "code",
      "metadata": {
        "id": "zS2UgN2IDLeN",
        "colab_type": "code",
        "colab": {}
      },
      "source": [
        "def DataSplitingForKFold(X, Y, dataset):\n",
        "    bins = StratifiedKFold(n_splits = 10)\n",
        "    for train_index, test_index in bins.split(X,Y):\n",
        "        #print(test_index)\n",
        "        X_train, X_test = X.iloc[train_index], X.iloc[test_index]\n",
        "        Y_train, Y_test = Y.iloc[train_index], Y.iloc[test_index]\n",
        "        training_data, testing_data = dataset.iloc[train_index], dataset.iloc[test_index]\n",
        "    return X_train, Y_train, X_test, Y_test, training_data, testing_data"
      ],
      "execution_count": 0,
      "outputs": []
    },
    {
      "cell_type": "code",
      "metadata": {
        "id": "MkcX96gjDNnu",
        "colab_type": "code",
        "colab": {}
      },
      "source": [
        "def ElbowAndSilhoutte(data):\n",
        "    inertiaS = []\n",
        "    for k in range(2,11):\n",
        "        km = KMeans(n_clusters = k)\n",
        "        #print(km.inertia_)\n",
        "        cluster_labels = km.fit_predict(data)\n",
        "        inertiaS.append(km.inertia_)\n",
        "        avg_score = silhouette_score(data, cluster_labels)\n",
        "        print(\"For n_clusters =\", k, \"The average silhouette_score is :\", avg_score)\n",
        "    \n",
        "    plt.plot(range(2, 11), inertiaS)\n",
        "    plt.title('Elbow Method')\n",
        "    plt.xlabel('Number of clusters')\n",
        "    plt.ylabel('WCSS')\n",
        "    plt.show()"
      ],
      "execution_count": 0,
      "outputs": []
    },
    {
      "cell_type": "code",
      "metadata": {
        "id": "UNvoUpw5DPp6",
        "colab_type": "code",
        "colab": {}
      },
      "source": [
        "def RunKNN(X, Y):\n",
        "    km = KMeans(n_clusters = 2, init='k-means++', max_iter=300, n_init=10, random_state=0)\n",
        "    km.fit(X)\n",
        "    cluster_labels = km.fit_predict(X)\n",
        "    for a,b,c in zip(X, cluster_labels , Y):\n",
        "        print(a, \"cluster = \", b, \"labels =\", c) \n",
        "    return km"
      ],
      "execution_count": 0,
      "outputs": []
    },
    {
      "cell_type": "code",
      "metadata": {
        "id": "g2HWa6pdDTGs",
        "colab_type": "code",
        "colab": {
          "base_uri": "https://localhost:8080/",
          "height": 90
        },
        "outputId": "c1860a72-23c0-41f4-8a7c-223e016138c9"
      },
      "source": [
        "#Reading the forst data set\n",
        "dataIncome = pd.read_csv(\"/content/Datasets_for_CE888/income_evaluation.csv\")\n",
        "income_count = Counter(dataIncome['income>50k'])\n",
        "print(\"\\nDataSet 3\\nImbalance: \", (income_count[0]/(income_count[0]+income_count[1]))*100, \"%\")\n",
        "print(income_count)"
      ],
      "execution_count": 7,
      "outputs": [
        {
          "output_type": "stream",
          "text": [
            "\n",
            "DataSet 3\n",
            "Imbalance:  75.91904425539757 %\n",
            "Counter({0: 24720, 1: 7841})\n"
          ],
          "name": "stdout"
        }
      ]
    },
    {
      "cell_type": "code",
      "metadata": {
        "id": "qiYZMFtVDg6D",
        "colab_type": "code",
        "colab": {}
      },
      "source": [
        "#Encoding categorical variables in dataSet\n",
        "encoder2 = LabelEncoder()\n",
        "dataIncome['workclass'] = encoder2.fit_transform(dataIncome['workclass'])\n",
        "encoder3 = LabelEncoder()\n",
        "dataIncome['fnlwgt'] = encoder3.fit_transform(dataIncome['fnlwgt'])\n",
        "encoder4 = LabelEncoder()\n",
        "dataIncome['education'] = encoder4.fit_transform(dataIncome['education'])\n",
        "encoder5 = LabelEncoder()\n",
        "dataIncome['marital-status'] = encoder5.fit_transform(dataIncome['marital-status'])\n",
        "encoder6 = LabelEncoder()\n",
        "dataIncome['occupation'] = encoder6.fit_transform(dataIncome['occupation'])\n",
        "encoder7 = LabelEncoder()\n",
        "dataIncome['relationship'] = encoder7.fit_transform(dataIncome['relationship'])\n",
        "encoder8 = LabelEncoder()\n",
        "dataIncome['race'] = encoder8.fit_transform(dataIncome['race'])\n",
        "encoder9 = LabelEncoder()\n",
        "dataIncome['sex'] = encoder9.fit_transform(dataIncome['sex'])\n",
        "encoder10 = LabelEncoder()\n",
        "dataIncome['native-country'] = encoder10.fit_transform(dataIncome['native-country'])\n"
      ],
      "execution_count": 0,
      "outputs": []
    },
    {
      "cell_type": "code",
      "metadata": {
        "id": "GXVzLe3LDigE",
        "colab_type": "code",
        "colab": {}
      },
      "source": [
        "#Splitting the dependant and independant variables\n",
        "X = dataIncome.iloc[:, 0:13]\n",
        "Y = dataIncome.iloc[:, -1]"
      ],
      "execution_count": 0,
      "outputs": []
    },
    {
      "cell_type": "code",
      "metadata": {
        "id": "cYRr_nBBDlw2",
        "colab_type": "code",
        "colab": {
          "base_uri": "https://localhost:8080/",
          "height": 55
        },
        "outputId": "427f8c09-af9b-4782-cb2a-c8ec64388e4b"
      },
      "source": [
        "DTreeGridSearchAndCV(X,Y)\n",
        "#Hence we can achieve around 85% accuracy using a decision tree if we set max depth of the tree from 5-13"
      ],
      "execution_count": 10,
      "outputs": [
        {
          "output_type": "stream",
          "text": [
            "[(3, 83.98700606291948), (4, 84.48146083393245), (5, 85.0649838299516), (6, 85.28303808316092), (7, 85.55943765799462), (8, 85.45809667931252), (9, 85.24309764868562), (10, 85.35673118341218), (11, 85.43657244762557), (12, 85.35059150617947), (13, 84.9359921439289), (14, 84.50296903513055), (15, 84.12521150815593), (16, 83.7075437217439), (17, 83.50483724716146), (18, 83.01959057754267), (19, 82.67868337257346)]\n"
          ],
          "name": "stdout"
        }
      ]
    },
    {
      "cell_type": "code",
      "metadata": {
        "id": "SSc83esKDpTm",
        "colab_type": "code",
        "colab": {
          "base_uri": "https://localhost:8080/",
          "height": 72
        },
        "outputId": "a607a76f-b8ed-4a43-a4a8-9f7a00b67589"
      },
      "source": [
        "RandomForestAndCV(X,Y)\n",
        "#Hence around 85% accuracy"
      ],
      "execution_count": 11,
      "outputs": [
        {
          "output_type": "stream",
          "text": [
            "[0.84986184 0.86179361 0.8519656  0.8519656  0.85933661 0.85380835\n",
            " 0.85718673 0.86517199 0.86578624 0.85257985]\n",
            "Mean Score:  0.8569456430640037\n"
          ],
          "name": "stdout"
        }
      ]
    },
    {
      "cell_type": "code",
      "metadata": {
        "id": "xSa7d-lKDvqk",
        "colab_type": "code",
        "colab": {
          "base_uri": "https://localhost:8080/",
          "height": 1000
        },
        "outputId": "b4db66c0-b5c2-4b1d-af0a-615942262070"
      },
      "source": [
        "#Spliting the data into 10 equal portions using stratified K Fold. \n",
        "#Using 1 portion for testing and 9 for training.\n",
        "KfoldNum = 1\n",
        "bins = StratifiedKFold(n_splits = 10)\n",
        "for train_index, test_index in bins.split(X,Y):\n",
        "    #print(test_index)\n",
        "    print(\"\\n\\n\\n***Iteration Number: \", KfoldNum, \" K FOLD***\\n\")\n",
        "    KfoldNum += 1\n",
        "    X_train, X_test = X.iloc[train_index], X.iloc[test_index]\n",
        "    Y_train, Y_test = Y.iloc[train_index], Y.iloc[test_index]\n",
        "    training_data, testing_data = dataIncome.iloc[train_index], dataIncome.iloc[test_index]\n",
        "    \n",
        "    #Now finding the ideal number of clusters.\n",
        "    #Using Elbow Method and Silhoutte analysis\n",
        "    ElbowAndSilhoutte(X_train)\n",
        "    #Hence according to Elbow method and silhoutte analysis, the ideal number of clusters should be 2.\n",
        "\n",
        "    #Running K-means on the selected number of clusters, i.e: 2\n",
        "    km = RunKNN(X_train, Y_train)\n",
        "\n",
        "    #storing cluster number and respective centroids with number of samples\n",
        "    label0 = np.array([]) # cluster 0 with minority class\n",
        "    label1 = np.array([])# cluster 1 with minority class\n",
        "    count0 = 0\n",
        "    count1 = 0\n",
        "    numOfLabels0 = 0\n",
        "    numOfLabels1 = 0\n",
        "    for cluster,centroid,labels in zip(km.labels_,X_train,Y_train):\n",
        "        if(cluster==0 and labels == 1):\n",
        "            count0 = count0 + 1\n",
        "            label0 = np.append(label0 ,[centroid,\"cluster\",cluster,'labels',labels])\n",
        "            numOfLabels0 = count0\n",
        "    \n",
        "        elif(cluster==1 and labels == 1):\n",
        "            count1 = count1 + 1\n",
        "            label1 = np.append(label1 ,[centroid,\"cluster\",cluster,'labels',labels])\n",
        "            numOfLabels1 = count1\n",
        "        \n",
        "    print('total num minority class samples in cluster(0):',numOfLabels0)\n",
        "    print('total num minority class samples in cluster(1):',numOfLabels1)\n",
        "\n",
        "\n",
        "    #getting each cluster as a whole to train random forest for each cluster data\n",
        "    temp1 = np.array([])\n",
        "    temp2 = np.array([])\n",
        "    temp3 = np.array([])\n",
        "    temp4 = np.array([])\n",
        "    for cluster,centroid,labels in zip(km.labels_,X_train,Y_train):\n",
        "        if(cluster==0):\n",
        "            temp1 = np.append(temp1 ,centroid)#centrid of cluster 1\n",
        "            temp2 = np.append(temp2,labels)#labells of cluster 1\n",
        "        \n",
        "        elif(cluster==1):\n",
        "            temp3 = np.append(temp3 ,centroid)#centroid of cluster 2\n",
        "            temp4 = np.append(temp4 ,labels)#label of cluster 2\n",
        "      \n",
        "    #cluster 1\n",
        "    clust1_train = temp1\n",
        "    clust1_label = temp2  \n",
        "    #cluster 2\n",
        "    clust2_train = temp3\n",
        "    clust2_label = temp4\n",
        "    if (clust1_train.size > 0 & clust2_train.size > 0):\n",
        "            \n",
        "        clust1_train = np.reshape(clust1_train,(-1,12)) # cluster 1\n",
        "        print(clust1_train)\n",
        "        print(clust1_train.shape)\n",
        "        \n",
        "        clust2_train = np.reshape(clust2_train,(-1,12)) # cluster 2\n",
        "        print(clust2_train)\n",
        "        print(clust2_train.shape)\n",
        "    \n",
        "        #Training random forest model for each clusters if the cluster is not empty of minority class\n",
        "        #cluster 1\n",
        "        rd_clf_1 = RandomForestClassifier(random_state=22, n_estimators= 100)\n",
        "        rd_clf_1.fit(clust1_train, clust1_label)\n",
        "\n",
        "        #cluster 2\n",
        "        rd_clf_2 = RandomForestClassifier(random_state=22, n_estimators= 100)\n",
        "        rd_clf_2.fit(clust2_train, clust2_label)\n",
        "    \n",
        "    #Finally testing the cluster\n",
        "    print(\"Testing on test dataset\")\n",
        "    CLUSTER_TEST = km.predict(X_test)\n",
        "    print(CLUSTER_TEST) # this is the cluster number  of X Test bin\n"
      ],
      "execution_count": 13,
      "outputs": [
        {
          "output_type": "stream",
          "text": [
            "\n",
            "\n",
            "\n",
            "***Iteration Number:  1  K FOLD***\n",
            "\n",
            "For n_clusters = 2 The average silhouette_score is : 0.9226849938872985\n",
            "For n_clusters = 3 The average silhouette_score is : 0.5635422359177737\n",
            "For n_clusters = 4 The average silhouette_score is : 0.5066220891511514\n",
            "For n_clusters = 5 The average silhouette_score is : 0.5388207117060513\n",
            "For n_clusters = 6 The average silhouette_score is : 0.5135914542923034\n",
            "For n_clusters = 7 The average silhouette_score is : 0.4912800441564252\n",
            "For n_clusters = 8 The average silhouette_score is : 0.4986353921129321\n",
            "For n_clusters = 9 The average silhouette_score is : 0.5123770228949486\n",
            "For n_clusters = 10 The average silhouette_score is : 0.498278579695868\n"
          ],
          "name": "stdout"
        },
        {
          "output_type": "display_data",
          "data": {
            "image/png": "[encoded data removed]",
            "text/plain": [
              "<Figure size 432x288 with 1 Axes>"
            ]
          },
          "metadata": {
            "tags": [],
            "needs_background": "light"
          }
        },
        {
          "output_type": "stream",
          "text": [
            "age cluster =  0 labels = 1\n",
            "workclass cluster =  1 labels = 1\n",
            "fnlwgt cluster =  0 labels = 1\n",
            "education cluster =  0 labels = 1\n",
            " education-num cluster =  0 labels = 1\n",
            "marital-status cluster =  0 labels = 1\n",
            "occupation cluster =  0 labels = 1\n",
            "relationship cluster =  0 labels = 1\n",
            "race cluster =  0 labels = 1\n",
            "sex cluster =  0 labels = 1\n",
            "capital-gain cluster =  0 labels = 1\n",
            " capital-loss cluster =  0 labels = 1\n",
            "hours-per-week cluster =  0 labels = 1\n",
            "total num minority class samples in cluster(0): 12\n",
            "total num minority class samples in cluster(1): 1\n",
            "Testing on test dataset\n",
            "[0 0 0 ... 0 0 0]\n",
            "\n",
            "\n",
            "\n",
            "***Iteration Number:  2  K FOLD***\n",
            "\n",
            "For n_clusters = 2 The average silhouette_score is : 0.9228554437792359\n",
            "For n_clusters = 3 The average silhouette_score is : 0.5635959366680443\n",
            "For n_clusters = 4 The average silhouette_score is : 0.5072301029011801\n",
            "For n_clusters = 5 The average silhouette_score is : 0.5393327435552638\n",
            "For n_clusters = 6 The average silhouette_score is : 0.5126501611587775\n",
            "For n_clusters = 7 The average silhouette_score is : 0.4895890673326916\n",
            "For n_clusters = 8 The average silhouette_score is : 0.4975348180120315\n",
            "For n_clusters = 9 The average silhouette_score is : 0.5104404126367308\n",
            "For n_clusters = 10 The average silhouette_score is : 0.49782742215714937\n"
          ],
          "name": "stdout"
        },
        {
          "output_type": "display_data",
          "data": {
            "image/png": "[encoded data removed]",
            "text/plain": [
              "<Figure size 432x288 with 1 Axes>"
            ]
          },
          "metadata": {
            "tags": [],
            "needs_background": "light"
          }
        },
        {
          "output_type": "stream",
          "text": [
            "age cluster =  0 labels = 0\n",
            "workclass cluster =  0 labels = 0\n",
            "fnlwgt cluster =  0 labels = 0\n",
            "education cluster =  0 labels = 0\n",
            " education-num cluster =  0 labels = 0\n",
            "marital-status cluster =  0 labels = 0\n",
            "occupation cluster =  0 labels = 0\n",
            "relationship cluster =  0 labels = 1\n",
            "race cluster =  0 labels = 1\n",
            "sex cluster =  0 labels = 1\n",
            "capital-gain cluster =  0 labels = 1\n",
            " capital-loss cluster =  0 labels = 1\n",
            "hours-per-week cluster =  0 labels = 0\n",
            "total num minority class samples in cluster(0): 5\n",
            "total num minority class samples in cluster(1): 0\n",
            "Testing on test dataset\n",
            "[0 1 0 ... 0 0 0]\n",
            "\n",
            "\n",
            "\n",
            "***Iteration Number:  3  K FOLD***\n",
            "\n",
            "For n_clusters = 2 The average silhouette_score is : 0.9225855854324633\n",
            "For n_clusters = 3 The average silhouette_score is : 0.5636245236345296\n",
            "For n_clusters = 4 The average silhouette_score is : 0.5082706241517116\n",
            "For n_clusters = 5 The average silhouette_score is : 0.540926390420318\n",
            "For n_clusters = 6 The average silhouette_score is : 0.5148278259533712\n",
            "For n_clusters = 7 The average silhouette_score is : 0.49142693145255795\n",
            "For n_clusters = 8 The average silhouette_score is : 0.5032816858387291\n",
            "For n_clusters = 9 The average silhouette_score is : 0.5117338749173475\n",
            "For n_clusters = 10 The average silhouette_score is : 0.49837433202639775\n"
          ],
          "name": "stdout"
        },
        {
          "output_type": "display_data",
          "data": {
            "image/png": "[encoded data removed]",
            "text/plain": [
              "<Figure size 432x288 with 1 Axes>"
            ]
          },
          "metadata": {
            "tags": [],
            "needs_background": "light"
          }
        },
        {
          "output_type": "stream",
          "text": [
            "age cluster =  0 labels = 0\n",
            "workclass cluster =  0 labels = 0\n",
            "fnlwgt cluster =  0 labels = 0\n",
            "education cluster =  0 labels = 0\n",
            " education-num cluster =  0 labels = 0\n",
            "marital-status cluster =  0 labels = 0\n",
            "occupation cluster =  0 labels = 0\n",
            "relationship cluster =  0 labels = 1\n",
            "race cluster =  0 labels = 1\n",
            "sex cluster =  0 labels = 1\n",
            "capital-gain cluster =  0 labels = 1\n",
            " capital-loss cluster =  0 labels = 1\n",
            "hours-per-week cluster =  0 labels = 0\n",
            "total num minority class samples in cluster(0): 5\n",
            "total num minority class samples in cluster(1): 0\n",
            "Testing on test dataset\n",
            "[0 0 0 ... 0 0 0]\n",
            "\n",
            "\n",
            "\n",
            "***Iteration Number:  4  K FOLD***\n",
            "\n",
            "For n_clusters = 2 The average silhouette_score is : 0.922560572518861\n",
            "For n_clusters = 3 The average silhouette_score is : 0.5631766509771702\n",
            "For n_clusters = 4 The average silhouette_score is : 0.5076387485577794\n",
            "For n_clusters = 5 The average silhouette_score is : 0.5402962345251844\n",
            "For n_clusters = 6 The average silhouette_score is : 0.5139925038988661\n",
            "For n_clusters = 7 The average silhouette_score is : 0.49130895433147714\n",
            "For n_clusters = 8 The average silhouette_score is : 0.4984981487610337\n",
            "For n_clusters = 9 The average silhouette_score is : 0.5064918627273117\n",
            "For n_clusters = 10 The average silhouette_score is : 0.49887593193119834\n"
          ],
          "name": "stdout"
        },
        {
          "output_type": "display_data",
          "data": {
            "image/png": "[encoded data removed]",
            "text/plain": [
              "<Figure size 432x288 with 1 Axes>"
            ]
          },
          "metadata": {
            "tags": [],
            "needs_background": "light"
          }
        },
        {
          "output_type": "stream",
          "text": [
            "age cluster =  0 labels = 0\n",
            "workclass cluster =  0 labels = 0\n",
            "fnlwgt cluster =  0 labels = 0\n",
            "education cluster =  0 labels = 0\n",
            " education-num cluster =  0 labels = 0\n",
            "marital-status cluster =  0 labels = 0\n",
            "occupation cluster =  0 labels = 0\n",
            "relationship cluster =  0 labels = 1\n",
            "race cluster =  0 labels = 1\n",
            "sex cluster =  0 labels = 1\n",
            "capital-gain cluster =  0 labels = 1\n",
            " capital-loss cluster =  0 labels = 1\n",
            "hours-per-week cluster =  0 labels = 0\n",
            "total num minority class samples in cluster(0): 5\n",
            "total num minority class samples in cluster(1): 0\n",
            "Testing on test dataset\n",
            "[0 0 0 ... 0 0 0]\n",
            "\n",
            "\n",
            "\n",
            "***Iteration Number:  5  K FOLD***\n",
            "\n",
            "For n_clusters = 2 The average silhouette_score is : 0.9226394286615139\n",
            "For n_clusters = 3 The average silhouette_score is : 0.5637592949133068\n",
            "For n_clusters = 4 The average silhouette_score is : 0.5075831623657858\n",
            "For n_clusters = 5 The average silhouette_score is : 0.5399510395463378\n",
            "For n_clusters = 6 The average silhouette_score is : 0.5122387307536411\n",
            "For n_clusters = 7 The average silhouette_score is : 0.491200471412857\n",
            "For n_clusters = 8 The average silhouette_score is : 0.4981946614026222\n",
            "For n_clusters = 9 The average silhouette_score is : 0.5116586670368245\n",
            "For n_clusters = 10 The average silhouette_score is : 0.4971900610928977\n"
          ],
          "name": "stdout"
        },
        {
          "output_type": "display_data",
          "data": {
            "image/png": "[encoded data removed]",
            "text/plain": [
              "<Figure size 432x288 with 1 Axes>"
            ]
          },
          "metadata": {
            "tags": [],
            "needs_background": "light"
          }
        },
        {
          "output_type": "stream",
          "text": [
            "age cluster =  0 labels = 0\n",
            "workclass cluster =  0 labels = 0\n",
            "fnlwgt cluster =  0 labels = 0\n",
            "education cluster =  0 labels = 0\n",
            " education-num cluster =  0 labels = 0\n",
            "marital-status cluster =  0 labels = 0\n",
            "occupation cluster =  0 labels = 0\n",
            "relationship cluster =  0 labels = 1\n",
            "race cluster =  0 labels = 1\n",
            "sex cluster =  0 labels = 1\n",
            "capital-gain cluster =  0 labels = 1\n",
            " capital-loss cluster =  0 labels = 1\n",
            "hours-per-week cluster =  0 labels = 0\n",
            "total num minority class samples in cluster(0): 5\n",
            "total num minority class samples in cluster(1): 0\n",
            "Testing on test dataset\n",
            "[0 0 0 ... 0 0 0]\n",
            "\n",
            "\n",
            "\n",
            "***Iteration Number:  6  K FOLD***\n",
            "\n",
            "For n_clusters = 2 The average silhouette_score is : 0.9226124447334031\n",
            "For n_clusters = 3 The average silhouette_score is : 0.5636973017221736\n",
            "For n_clusters = 4 The average silhouette_score is : 0.5090574218863985\n",
            "For n_clusters = 5 The average silhouette_score is : 0.5415696295575215\n",
            "For n_clusters = 6 The average silhouette_score is : 0.5132515862611585\n",
            "For n_clusters = 7 The average silhouette_score is : 0.4904642336298185\n",
            "For n_clusters = 8 The average silhouette_score is : 0.49765494974294733\n",
            "For n_clusters = 9 The average silhouette_score is : 0.510738922398021\n",
            "For n_clusters = 10 The average silhouette_score is : 0.4990519208477762\n"
          ],
          "name": "stdout"
        },
        {
          "output_type": "display_data",
          "data": {
            "image/png": "[encoded data removed]",
            "text/plain": [
              "<Figure size 432x288 with 1 Axes>"
            ]
          },
          "metadata": {
            "tags": [],
            "needs_background": "light"
          }
        },
        {
          "output_type": "stream",
          "text": [
            "age cluster =  0 labels = 0\n",
            "workclass cluster =  0 labels = 0\n",
            "fnlwgt cluster =  0 labels = 0\n",
            "education cluster =  0 labels = 0\n",
            " education-num cluster =  0 labels = 0\n",
            "marital-status cluster =  0 labels = 0\n",
            "occupation cluster =  0 labels = 0\n",
            "relationship cluster =  0 labels = 1\n",
            "race cluster =  0 labels = 1\n",
            "sex cluster =  0 labels = 1\n",
            "capital-gain cluster =  0 labels = 1\n",
            " capital-loss cluster =  0 labels = 1\n",
            "hours-per-week cluster =  0 labels = 0\n",
            "total num minority class samples in cluster(0): 5\n",
            "total num minority class samples in cluster(1): 0\n",
            "Testing on test dataset\n",
            "[0 0 0 ... 0 0 0]\n",
            "\n",
            "\n",
            "\n",
            "***Iteration Number:  7  K FOLD***\n",
            "\n",
            "For n_clusters = 2 The average silhouette_score is : 0.9226362174542604\n",
            "For n_clusters = 3 The average silhouette_score is : 0.5647804659449414\n",
            "For n_clusters = 4 The average silhouette_score is : 0.5075833495418661\n",
            "For n_clusters = 5 The average silhouette_score is : 0.5403458791886896\n",
            "For n_clusters = 6 The average silhouette_score is : 0.5122016100503286\n",
            "For n_clusters = 7 The average silhouette_score is : 0.49157193147011047\n",
            "For n_clusters = 8 The average silhouette_score is : 0.5030869858106146\n",
            "For n_clusters = 9 The average silhouette_score is : 0.5119821291600708\n",
            "For n_clusters = 10 The average silhouette_score is : 0.4989868078747823\n"
          ],
          "name": "stdout"
        },
        {
          "output_type": "display_data",
          "data": {
            "image/png": "[encoded data removed]",
            "text/plain": [
              "<Figure size 432x288 with 1 Axes>"
            ]
          },
          "metadata": {
            "tags": [],
            "needs_background": "light"
          }
        },
        {
          "output_type": "stream",
          "text": [
            "age cluster =  0 labels = 0\n",
            "workclass cluster =  0 labels = 0\n",
            "fnlwgt cluster =  0 labels = 0\n",
            "education cluster =  0 labels = 0\n",
            " education-num cluster =  0 labels = 0\n",
            "marital-status cluster =  0 labels = 0\n",
            "occupation cluster =  0 labels = 0\n",
            "relationship cluster =  0 labels = 1\n",
            "race cluster =  0 labels = 1\n",
            "sex cluster =  0 labels = 1\n",
            "capital-gain cluster =  0 labels = 1\n",
            " capital-loss cluster =  0 labels = 1\n",
            "hours-per-week cluster =  0 labels = 0\n",
            "total num minority class samples in cluster(0): 5\n",
            "total num minority class samples in cluster(1): 0\n",
            "Testing on test dataset\n",
            "[0 0 0 ... 0 0 0]\n",
            "\n",
            "\n",
            "\n",
            "***Iteration Number:  8  K FOLD***\n",
            "\n",
            "For n_clusters = 2 The average silhouette_score is : 0.9228042775204892\n",
            "For n_clusters = 3 The average silhouette_score is : 0.5634807205880072\n",
            "For n_clusters = 4 The average silhouette_score is : 0.5081267303920187\n",
            "For n_clusters = 5 The average silhouette_score is : 0.54019555278096\n",
            "For n_clusters = 6 The average silhouette_score is : 0.5134311759733612\n",
            "For n_clusters = 7 The average silhouette_score is : 0.4921233434163613\n",
            "For n_clusters = 8 The average silhouette_score is : 0.49931438031389047\n",
            "For n_clusters = 9 The average silhouette_score is : 0.5126617836049722\n",
            "For n_clusters = 10 The average silhouette_score is : 0.4996648317561172\n"
          ],
          "name": "stdout"
        },
        {
          "output_type": "display_data",
          "data": {
            "image/png": "[encoded data removed]",
            "text/plain": [
              "<Figure size 432x288 with 1 Axes>"
            ]
          },
          "metadata": {
            "tags": [],
            "needs_background": "light"
          }
        },
        {
          "output_type": "stream",
          "text": [
            "age cluster =  0 labels = 0\n",
            "workclass cluster =  0 labels = 0\n",
            "fnlwgt cluster =  0 labels = 0\n",
            "education cluster =  0 labels = 0\n",
            " education-num cluster =  0 labels = 0\n",
            "marital-status cluster =  0 labels = 0\n",
            "occupation cluster =  0 labels = 0\n",
            "relationship cluster =  0 labels = 1\n",
            "race cluster =  0 labels = 1\n",
            "sex cluster =  0 labels = 1\n",
            "capital-gain cluster =  0 labels = 1\n",
            " capital-loss cluster =  0 labels = 1\n",
            "hours-per-week cluster =  0 labels = 0\n",
            "total num minority class samples in cluster(0): 5\n",
            "total num minority class samples in cluster(1): 0\n",
            "Testing on test dataset\n",
            "[0 0 0 ... 0 0 0]\n",
            "\n",
            "\n",
            "\n",
            "***Iteration Number:  9  K FOLD***\n",
            "\n",
            "For n_clusters = 2 The average silhouette_score is : 0.9227249770281889\n",
            "For n_clusters = 3 The average silhouette_score is : 0.5633701174456422\n",
            "For n_clusters = 4 The average silhouette_score is : 0.5071827490189251\n",
            "For n_clusters = 5 The average silhouette_score is : 0.5397376467376764\n",
            "For n_clusters = 6 The average silhouette_score is : 0.5129450306761814\n",
            "For n_clusters = 7 The average silhouette_score is : 0.4921695705161849\n",
            "For n_clusters = 8 The average silhouette_score is : 0.498971761812371\n",
            "For n_clusters = 9 The average silhouette_score is : 0.5121339066516949\n",
            "For n_clusters = 10 The average silhouette_score is : 0.4998044136925164\n"
          ],
          "name": "stdout"
        },
        {
          "output_type": "display_data",
          "data": {
            "image/png": "[encoded data removed]",
            "text/plain": [
              "<Figure size 432x288 with 1 Axes>"
            ]
          },
          "metadata": {
            "tags": [],
            "needs_background": "light"
          }
        },
        {
          "output_type": "stream",
          "text": [
            "age cluster =  0 labels = 0\n",
            "workclass cluster =  0 labels = 0\n",
            "fnlwgt cluster =  0 labels = 0\n",
            "education cluster =  0 labels = 0\n",
            " education-num cluster =  0 labels = 0\n",
            "marital-status cluster =  0 labels = 0\n",
            "occupation cluster =  0 labels = 0\n",
            "relationship cluster =  0 labels = 1\n",
            "race cluster =  0 labels = 1\n",
            "sex cluster =  0 labels = 1\n",
            "capital-gain cluster =  0 labels = 1\n",
            " capital-loss cluster =  0 labels = 1\n",
            "hours-per-week cluster =  0 labels = 0\n",
            "total num minority class samples in cluster(0): 5\n",
            "total num minority class samples in cluster(1): 0\n",
            "Testing on test dataset\n",
            "[0 0 0 ... 0 0 0]\n",
            "\n",
            "\n",
            "\n",
            "***Iteration Number:  10  K FOLD***\n",
            "\n",
            "For n_clusters = 2 The average silhouette_score is : 0.9227142435641877\n",
            "For n_clusters = 3 The average silhouette_score is : 0.5634336861657846\n",
            "For n_clusters = 4 The average silhouette_score is : 0.5077661082948708\n",
            "For n_clusters = 5 The average silhouette_score is : 0.5404617931701334\n",
            "For n_clusters = 6 The average silhouette_score is : 0.513508656256406\n",
            "For n_clusters = 7 The average silhouette_score is : 0.4909637910309112\n",
            "For n_clusters = 8 The average silhouette_score is : 0.4979030806221294\n",
            "For n_clusters = 9 The average silhouette_score is : 0.5111676754033002\n",
            "For n_clusters = 10 The average silhouette_score is : 0.4980147270152958\n"
          ],
          "name": "stdout"
        },
        {
          "output_type": "display_data",
          "data": {
            "image/png": "[encoded data removed]",
            "text/plain": [
              "<Figure size 432x288 with 1 Axes>"
            ]
          },
          "metadata": {
            "tags": [],
            "needs_background": "light"
          }
        },
        {
          "output_type": "stream",
          "text": [
            "age cluster =  0 labels = 0\n",
            "workclass cluster =  0 labels = 0\n",
            "fnlwgt cluster =  0 labels = 0\n",
            "education cluster =  0 labels = 0\n",
            " education-num cluster =  0 labels = 0\n",
            "marital-status cluster =  0 labels = 0\n",
            "occupation cluster =  0 labels = 0\n",
            "relationship cluster =  0 labels = 1\n",
            "race cluster =  0 labels = 1\n",
            "sex cluster =  0 labels = 1\n",
            "capital-gain cluster =  0 labels = 1\n",
            " capital-loss cluster =  0 labels = 1\n",
            "hours-per-week cluster =  0 labels = 0\n",
            "total num minority class samples in cluster(0): 5\n",
            "total num minority class samples in cluster(1): 0\n",
            "Testing on test dataset\n",
            "[0 0 0 ... 0 0 0]\n"
          ],
          "name": "stdout"
        }
      ]
    }
  ]
}