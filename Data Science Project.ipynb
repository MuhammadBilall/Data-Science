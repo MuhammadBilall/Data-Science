{
 "cells": [
  {
   "cell_type": "code",
   "execution_count": 8,
   "metadata": {},
   "outputs": [],
   "source": [
    "import pandas as pd\n",
    "import numpy as np\n",
    "from collections import Counter\n",
    "import matplotlib.pyplot as plt\n",
    "import random\n",
    "from sklearn.preprocessing import LabelEncoder\n",
    "from sklearn.impute import SimpleImputer\n",
    "from sklearn.cluster import KMeans\n",
    "from sklearn.metrics import silhouette_samples, silhouette_score"
   ]
  },
  {
   "cell_type": "code",
   "execution_count": 3,
   "metadata": {},
   "outputs": [
    {
     "name": "stdout",
     "output_type": "stream",
     "text": [
      "\n",
      "DataSet 3\n",
      "Imbalance:  75.91904425539757 %\n",
      "Counter({0: 24720, 1: 7841})\n"
     ]
    }
   ],
   "source": [
    "dataIncome = pd.read_csv(\"C:\\\\Users\\\\Bilal\\\\Desktop\\\\Data Science & Decision Making\\\\project\\\\income_evaluation.csv\")\n",
    "income_count = Counter(dataIncome['income>50k'])\n",
    "print(\"\\nDataSet 3\\nImbalance: \", (income_count[0]/(income_count[0]+income_count[1]))*100, \"%\")\n",
    "print(income_count)"
   ]
  },
  {
   "cell_type": "code",
   "execution_count": 4,
   "metadata": {},
   "outputs": [],
   "source": [
    "#Encoding categorical variables in dataSet\n",
    "encoder2 = LabelEncoder()\n",
    "dataIncome['workclass'] = encoder2.fit_transform(dataIncome['workclass'])\n",
    "encoder3 = LabelEncoder()\n",
    "dataIncome['fnlwgt'] = encoder3.fit_transform(dataIncome['fnlwgt'])\n",
    "encoder4 = LabelEncoder()\n",
    "dataIncome['education'] = encoder4.fit_transform(dataIncome['education'])\n",
    "encoder5 = LabelEncoder()\n",
    "dataIncome['marital-status'] = encoder5.fit_transform(dataIncome['marital-status'])\n",
    "encoder6 = LabelEncoder()\n",
    "dataIncome['occupation'] = encoder6.fit_transform(dataIncome['occupation'])\n",
    "encoder7 = LabelEncoder()\n",
    "dataIncome['relationship'] = encoder7.fit_transform(dataIncome['relationship'])\n",
    "encoder8 = LabelEncoder()\n",
    "dataIncome['race'] = encoder8.fit_transform(dataIncome['race'])\n",
    "encoder9 = LabelEncoder()\n",
    "dataIncome['sex'] = encoder9.fit_transform(dataIncome['sex'])\n",
    "encoder10 = LabelEncoder()\n",
    "dataIncome['native-country'] = encoder10.fit_transform(dataIncome['native-country'])"
   ]
  },
  {
   "cell_type": "code",
   "execution_count": 5,
   "metadata": {},
   "outputs": [],
   "source": [
    "#Splitting the dependant and independant variables\n",
    "X = dataIncome.iloc[:, 0:13]\n",
    "Y = dataIncome.iloc[:, -1]"
   ]
  },
  {
   "cell_type": "code",
   "execution_count": 37,
   "metadata": {},
   "outputs": [
    {
     "name": "stdout",
     "output_type": "stream",
     "text": [
      "[(3, 83.98700606291948), (4, 84.4845330299736), (5, 85.0711263360941), (6, 85.27689463404846), (7, 85.55022295581092), (8, 85.46423824248508), (9, 85.25845297107195), (10, 85.365943999656), (11, 85.47649968052178), (12, 85.4181581307771), (13, 84.96670467464142), (14, 84.47532492857945), (15, 84.05149577662627), (16, 83.69217708371839), (17, 83.56933356165779), (18, 83.12093438513457), (19, 82.8045981477053)]\n"
     ]
    }
   ],
   "source": [
    "#Finding the best depth for tree by performing a grid search.\n",
    "#Additionaly performing 10 Fold cross validation of each classifier \n",
    "from sklearn import tree\n",
    "from sklearn.model_selection import cross_val_score\n",
    "depth = []\n",
    "for i in range(3,20):\n",
    "    clf = tree.DecisionTreeClassifier(max_depth=i)\n",
    "    # Perform 10-fold cross validation \n",
    "    scores = cross_val_score(estimator=clf, X=X, y=Y, cv=10, n_jobs=4)\n",
    "    depth.append((i,scores.mean()*100))\n",
    "print(depth)\n",
    "#Hence we can achieve around 85% accuracy using a decision tree if we set max depth of the tree from 5-13"
   ]
  },
  {
   "cell_type": "code",
   "execution_count": 8,
   "metadata": {},
   "outputs": [
    {
     "name": "stdout",
     "output_type": "stream",
     "text": [
      "[0.84863371 0.85749386 0.85472973 0.84981572 0.85657248 0.85780098\n",
      " 0.85933661 0.86271499 0.86332924 0.85165848]\n",
      "Mean Score:  0.8562085800457\n"
     ]
    }
   ],
   "source": [
    "#Training a Random Forest Classifier.\n",
    "#Also performing 10 Fold Cross Validation.\n",
    "from sklearn.ensemble import RandomForestClassifier\n",
    "randomforest = RandomForestClassifier(n_estimators=100)\n",
    "randomforest.fit(X, Y)\n",
    "RandomForest_CV_Score = cross_val_score(randomforest, X, Y, cv=10)\n",
    "print(RandomForest_CV_Score)\n",
    "print(\"Mean Score: \", RandomForest_CV_Score.mean())\n",
    "#Hence around 85% accuracy"
   ]
  },
  {
   "cell_type": "code",
   "execution_count": 6,
   "metadata": {},
   "outputs": [],
   "source": [
    "#Spliting the data into 10 equal portions using stratified K Fold. \n",
    "#Using 1 portion for testing and 9 for training.\n",
    "from sklearn.model_selection import StratifiedKFold\n",
    "bins = StratifiedKFold(n_splits = 10)\n",
    "for train_index, test_index in bins.split(X,Y):\n",
    "    #print(test_index)\n",
    "    X_train, X_test = X.iloc[train_index], X.iloc[test_index]\n",
    "    Y_train, Y_test = Y.iloc[train_index], Y.iloc[test_index]\n",
    "    training_data, testing_data = dataIncome.iloc[train_index], dataIncome.iloc[test_index]\n"
   ]
  },
  {
   "cell_type": "code",
   "execution_count": 17,
   "metadata": {},
   "outputs": [
    {
     "name": "stdout",
     "output_type": "stream",
     "text": [
      "For n_clusters = 2 The average silhouette_score is : 0.9227142435641877\n",
      "For n_clusters = 3 The average silhouette_score is : 0.5634332303151087\n",
      "For n_clusters = 4 The average silhouette_score is : 0.5076330709094191\n",
      "For n_clusters = 5 The average silhouette_score is : 0.5403818854493044\n",
      "For n_clusters = 6 The average silhouette_score is : 0.5134826563500228\n",
      "For n_clusters = 7 The average silhouette_score is : 0.49073867903243007\n",
      "For n_clusters = 8 The average silhouette_score is : 0.4980137445500281\n",
      "For n_clusters = 9 The average silhouette_score is : 0.5110018288306009\n",
      "For n_clusters = 10 The average silhouette_score is : 0.4978156064675514\n"
     ]
    },
    {
     "data": {
      "image/png": "[encoded data removed]",
      "text/plain": [
       "<Figure size 432x288 with 1 Axes>"
      ]
     },
     "metadata": {
      "needs_background": "light"
     },
     "output_type": "display_data"
    }
   ],
   "source": [
    "#Now finding the ideal number of clusters.\n",
    "#Using Elbow Method\n",
    "\n",
    "mms = MinMaxScaler()\n",
    "data_transformed= mms.fit_transform(X_train)\n",
    "\n",
    "inertiaS = []\n",
    "for k in range(2,11):\n",
    "    km = KMeans(n_clusters = k)\n",
    "    #print(km.inertia_)\n",
    "    cluster_labels = km.fit_predict(X_train)\n",
    "    inertiaS.append(km.inertia_)\n",
    "    avg_score = silhouette_score(X_train, cluster_labels)\n",
    "    print(\"For n_clusters =\", k, \"The average silhouette_score is :\", avg_score)\n",
    "    \n",
    "plt.plot(range(2, 11), inertiaS)\n",
    "plt.title('Elbow Method')\n",
    "plt.xlabel('Number of clusters')\n",
    "plt.ylabel('WCSS')\n",
    "plt.show()\n",
    "\n",
    "#Hence according to Elbow method and silhoutte analysis, the ideal number of clusters should be 2."
   ]
  },
  {
   "cell_type": "code",
   "execution_count": 9,
   "metadata": {},
   "outputs": [
    {
     "data": {
      "text/plain": [
       "KMeans(algorithm='auto', copy_x=True, init='k-means++', max_iter=300,\n",
       "       n_clusters=2, n_init=10, n_jobs=None, precompute_distances='auto',\n",
       "       random_state=0, tol=0.0001, verbose=0)"
      ]
     },
     "execution_count": 9,
     "metadata": {},
     "output_type": "execute_result"
    }
   ],
   "source": [
    "#Running K-means on the selected number of clusters, i.e: 2\n",
    "km = KMeans(n_clusters = 2, init='k-means++', max_iter=300, n_init=10, random_state=0)\n",
    "km.fit(training_data)"
   ]
  },
  {
   "cell_type": "code",
   "execution_count": 10,
   "metadata": {},
   "outputs": [
    {
     "data": {
      "text/plain": [
       "array([0, 0, 0, ..., 0, 0, 0])"
      ]
     },
     "execution_count": 10,
     "metadata": {},
     "output_type": "execute_result"
    }
   ],
   "source": [
    "cluster_labels = km.fit_predict(X_train)\n",
    "cluster_labels"
   ]
  },
  {
   "cell_type": "code",
   "execution_count": 11,
   "metadata": {},
   "outputs": [
    {
     "name": "stdout",
     "output_type": "stream",
     "text": [
      "age cluster =  0 labels = 0\n",
      "workclass cluster =  0 labels = 0\n",
      "fnlwgt cluster =  0 labels = 0\n",
      "education cluster =  0 labels = 0\n",
      " education-num cluster =  0 labels = 0\n",
      "marital-status cluster =  0 labels = 0\n",
      "occupation cluster =  0 labels = 0\n",
      "relationship cluster =  0 labels = 1\n",
      "race cluster =  0 labels = 1\n",
      "sex cluster =  0 labels = 1\n",
      "capital-gain cluster =  0 labels = 1\n",
      " capital-loss cluster =  0 labels = 1\n",
      "hours-per-week cluster =  0 labels = 0\n"
     ]
    }
   ],
   "source": [
    "for a,b,c in zip(X_train, cluster_labels , Y_train):\n",
    "    print(a, \"cluster = \", b, \"labels =\", c)"
   ]
  },
  {
   "cell_type": "code",
   "execution_count": 17,
   "metadata": {},
   "outputs": [
    {
     "name": "stdout",
     "output_type": "stream",
     "text": [
      "total num minority class samples in cluster(0): 5\n",
      "total num minority class samples in cluster(1): 0\n"
     ]
    }
   ],
   "source": [
    "#storing cluster number and respective centroids with number of samples\n",
    "label0 = np.array([]) # cluster 0 with minority class\n",
    "label1 = np.array([])# cluster 1 with minority class\n",
    "count0 = 0\n",
    "count1 = 0\n",
    "numOfLabels0 = 0\n",
    "numOfLabels1 = 0\n",
    "for cluster,centroid,labels in zip(km.labels_,X_train,Y_train):\n",
    "    if(cluster==0 and labels == 1):\n",
    "        count0 = count0 + 1\n",
    "        label0 = np.append(label0 ,[centroid,\"cluster\",cluster,'labels',labels])\n",
    "        numOfLabels0 = count0\n",
    "    elif(cluster==1 and labels == 1):\n",
    "        count1 = count1 + 1\n",
    "        label1 = np.append(label1 ,[centroid,\"cluster\",cluster,'labels',labels])\n",
    "        numOfLabels1 = count1\n",
    "        \n",
    "print('total num minority class samples in cluster(0):',numOfLabels0)\n",
    "print('total num minority class samples in cluster(1):',numOfLabels1)\n",
    "\n",
    "#centroid of cluster-1 \n",
    "#print(\"Label 0:\",label0)\n",
    "#centroid of cluster-2\n",
    "#print(\"label 1:\",label1)"
   ]
  },
  {
   "cell_type": "code",
   "execution_count": null,
   "metadata": {},
   "outputs": [],
   "source": []
  }
 ],
 "metadata": {
  "kernelspec": {
   "display_name": "Python 3",
   "language": "python",
   "name": "python3"
  },
  "language_info": {
   "codemirror_mode": {
    "name": "ipython",
    "version": 3
   },
   "file_extension": ".py",
   "mimetype": "text/x-python",
   "name": "python",
   "nbconvert_exporter": "python",
   "pygments_lexer": "ipython3",
   "version": "3.7.4"
  }
 },
 "nbformat": 4,
 "nbformat_minor": 2
}
